{
 "cells": [
  {
   "cell_type": "markdown",
   "id": "7ac97a08",
   "metadata": {},
   "source": [
    "# Versions"
   ]
  },
  {
   "cell_type": "markdown",
   "id": "dfc085f3-fb51-4e3b-b05a-10129f2aa073",
   "metadata": {},
   "source": [
    "## Carbon"
   ]
  },
  {
   "cell_type": "code",
   "execution_count": 9,
   "id": "bdd10399-1a67-4660-8f10-e1a454960abf",
   "metadata": {},
   "outputs": [
    {
     "name": "stdout",
     "output_type": "stream",
     "text": [
      "Version: 2.2.3\n"
     ]
    }
   ],
   "source": [
    "!pip show carbon-simulator | grep Version"
   ]
  },
  {
   "cell_type": "markdown",
   "id": "11971f92",
   "metadata": {},
   "source": [
    "## Python and Jupyter"
   ]
  },
  {
   "cell_type": "code",
   "execution_count": 1,
   "id": "8fdbef80",
   "metadata": {},
   "outputs": [
    {
     "name": "stdout",
     "output_type": "stream",
     "text": [
      "Python 3.8.15\n"
     ]
    }
   ],
   "source": [
    "!python --version"
   ]
  },
  {
   "cell_type": "code",
   "execution_count": 2,
   "id": "69facd20",
   "metadata": {},
   "outputs": [
    {
     "name": "stdout",
     "output_type": "stream",
     "text": [
      "6.4.12\n"
     ]
    }
   ],
   "source": [
    "!jupyter notebook --version"
   ]
  },
  {
   "cell_type": "code",
   "execution_count": 10,
   "id": "e45ed838-537b-414c-8902-31a796cf0472",
   "metadata": {},
   "outputs": [
    {
     "name": "stdout",
     "output_type": "stream",
     "text": [
      "Version: 6.0\n"
     ]
    }
   ],
   "source": [
    "!pip show pyyaml | grep Version"
   ]
  },
  {
   "cell_type": "code",
   "execution_count": 3,
   "id": "545e4f04",
   "metadata": {},
   "outputs": [
    {
     "name": "stdout",
     "output_type": "stream",
     "text": [
      "\u001b[33mWARNING: Package(s) not found: jupytext\u001b[0m\u001b[33m\n",
      "\u001b[0m"
     ]
    }
   ],
   "source": [
    "!pip show jupytext  | grep Version"
   ]
  },
  {
   "cell_type": "markdown",
   "id": "c61b7059",
   "metadata": {},
   "source": [
    "## Analytics packages"
   ]
  },
  {
   "cell_type": "code",
   "execution_count": 4,
   "id": "f7a2b9b2",
   "metadata": {},
   "outputs": [
    {
     "name": "stdout",
     "output_type": "stream",
     "text": [
      "Version: 1.24.1\n"
     ]
    }
   ],
   "source": [
    "!pip show numpy | grep Version"
   ]
  },
  {
   "cell_type": "code",
   "execution_count": 5,
   "id": "1dcef7be",
   "metadata": {},
   "outputs": [
    {
     "name": "stdout",
     "output_type": "stream",
     "text": [
      "Version: 3.6.3\n"
     ]
    }
   ],
   "source": [
    "!pip show matplotlib  | grep Version"
   ]
  },
  {
   "cell_type": "code",
   "execution_count": 6,
   "id": "abc4cd3e",
   "metadata": {},
   "outputs": [
    {
     "name": "stdout",
     "output_type": "stream",
     "text": [
      "Version: 1.5.3\n"
     ]
    }
   ],
   "source": [
    "!pip show pandas | grep Version"
   ]
  },
  {
   "cell_type": "code",
   "execution_count": 11,
   "id": "c4cfe6e1-50d8-4b25-8371-ca16620cdfb9",
   "metadata": {},
   "outputs": [
    {
     "name": "stdout",
     "output_type": "stream",
     "text": [
      "Version: 0.9.0\n"
     ]
    }
   ],
   "source": [
    "!pip show tabulate | grep Version"
   ]
  },
  {
   "cell_type": "code",
   "execution_count": 7,
   "id": "c559d5f9",
   "metadata": {},
   "outputs": [
    {
     "name": "stdout",
     "output_type": "stream",
     "text": [
      "Version: 1.11.1\n"
     ]
    }
   ],
   "source": [
    "!pip show sympy | grep Version"
   ]
  },
  {
   "cell_type": "code",
   "execution_count": 8,
   "id": "6680e82c",
   "metadata": {},
   "outputs": [
    {
     "name": "stdout",
     "output_type": "stream",
     "text": [
      "Version: 1.10.0\n",
      "        Version 3.1, 31 March 2009\n",
      "                               Version 3, 29 June 2007\n",
      "          5. Conveying Modified Source Versions.\n",
      "          14. Revised Versions of this License.\n"
     ]
    }
   ],
   "source": [
    "!pip show scipy  | grep Version"
   ]
  },
  {
   "cell_type": "code",
   "execution_count": null,
   "id": "df3fbe62",
   "metadata": {},
   "outputs": [],
   "source": []
  }
 ],
 "metadata": {
  "kernelspec": {
   "display_name": "Python 3 (ipykernel)",
   "language": "python",
   "name": "python3"
  },
  "language_info": {
   "codemirror_mode": {
    "name": "ipython",
    "version": 3
   },
   "file_extension": ".py",
   "mimetype": "text/x-python",
   "name": "python",
   "nbconvert_exporter": "python",
   "pygments_lexer": "ipython3",
   "version": "3.8.15"
  }
 },
 "nbformat": 4,
 "nbformat_minor": 5
}
