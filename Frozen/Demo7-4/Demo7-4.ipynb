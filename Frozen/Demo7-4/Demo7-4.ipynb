{
 "cells": [
  {
   "cell_type": "code",
   "execution_count": 16,
   "id": "8819dd70",
   "metadata": {},
   "outputs": [
    {
     "name": "stdout",
     "output_type": "stream",
     "text": [
      "Carbon v2.2.5-BETA0 (27/Jan/2022)\n",
      "CarbonSimulatorUI v2.5 (25/Jan/2023)\n",
      "CarbonOrderUI v1.6.2 (27/Jan/2023)\n"
     ]
    }
   ],
   "source": [
    "from carbon.helpers.stdimports import *\n",
    "from carbon.helpers import j, strategy, pdread, pdcols, fsave, listdir, Params\n",
    "from carbon.helpers.widgets import CheckboxManager, DropdownManager, PcSliderManager\n",
    "from carbon.helpers.simulation import run_sim, plot_sim, SIM_DEFAULT_PARAMS\n",
    "\n",
    "plt.rcParams['figure.figsize'] = [12,6]\n",
    "plt_style('seaborn-v0_8-dark', 'seaborn-dark')\n",
    "print_version(require=\"2.2.5\")"
   ]
  },
  {
   "cell_type": "markdown",
   "id": "68d363b7",
   "metadata": {},
   "source": [
    "# Carbon Simulation - Demo 7-4 \n",
    "_[frozen_20230127][frozen]: this notebook on [Binder][frozen_nb] and on [github][frozen_gh]_\n",
    "\n",
    "Use **Run -- Run All Cells** in the menu above to run the notebook, then adjust the simulation parameters using the widgets provided. You can find **further usage instructions at the end of this notebook**, and throughout the notebook.\n",
    "\n",
    "Further resources are (1) the github repo [github:carbon-simulator-binder][repob] associated with this binder, (2) the main simulator repo [github:carbon-simulator][repo], (3) the carbon package [pypi:carbon-simulator][simpypi] and finally (4) the [\"Carbon Simulator\" presentation][presn]\n",
    "\n",
    "[presn]:https://github.com/bancorprotocol/carbon-simulator/blob/beta/resources/notes/202301%20Simulating%20Carbon.pdf\n",
    "[simpypi]:https://pypi.org/project/carbon-simulator/\n",
    "[repo]:https://github.com/bancorprotocol/carbon-simulator\n",
    "[repob]:https://github.com/bancorprotocol/carbon-simulator-binder\n",
    "[frozen]:https://mybinder.org/v2/gh/bancorprotocol/carbon-simulator-binder/frozen_20230127\n",
    "[frozen_nb]:https://mybinder.org/v2/gh/bancorprotocol/carbon-simulator-binder/frozen_20230127?labpath=Frozen%2FDemo7-4%2FDemo7-4.ipynb\n",
    "[frozen_gh]:https://github.com/bancorprotocol/carbon-simulator-binder/blob/frozen_20230127/Frozen/Demo7-4/Demo7-4.ipynb"
   ]
  },
  {
   "cell_type": "markdown",
   "id": "42a8a439",
   "metadata": {},
   "source": [
    "## Setup"
   ]
  },
  {
   "cell_type": "code",
   "execution_count": 17,
   "id": "236adb2f",
   "metadata": {},
   "outputs": [],
   "source": [
    "# remove at next update\n",
    "sim_params = SIM_DEFAULT_PARAMS.params\n",
    "sim_params[\"plotValueCsh\"] = True\n",
    "\n",
    "import datetime \n",
    "fname = lambda data, col: f\"{datetime.datetime.now().strftime('%m%d-%H%M%S')}-{data}-{col.replace('/', '')}.png\""
   ]
  },
  {
   "cell_type": "markdown",
   "id": "c34c90ea",
   "metadata": {},
   "source": [
    "### Type and destination of generated output\n",
    "\n",
    "If `OUTPATH` is `None`, output will not be saved, otherwise it will be saved to the indicated directory (use `\".\"` for current)"
   ]
  },
  {
   "cell_type": "code",
   "execution_count": 18,
   "id": "4cece6af",
   "metadata": {},
   "outputs": [
    {
     "data": {
      "application/vnd.jupyter.widget-view+json": {
       "model_id": "37b2ad7ad36a40f4acd0d4046f311727",
       "version_major": 2,
       "version_minor": 0
      },
      "text/plain": [
       "Dropdown(description='Target', options=(('Current', '.'), ('SKL Desktop/sim7-4', '/Users/skl/Desktop/sim7-4'))…"
      ]
     },
     "metadata": {},
     "output_type": "display_data"
    }
   ],
   "source": [
    "try:\n",
    "    outpath_w()\n",
    "except:\n",
    "    outpath_w = DropdownManager({\n",
    "        \".\"                          : \"Current\",\n",
    "        \"/Users/skl/Desktop/sim7-4\"  : \"SKL Desktop/sim7-4\", \n",
    "    },\n",
    "    descr=\"Target\", defaultix=0)\n",
    "    outpath_w()"
   ]
  },
  {
   "cell_type": "code",
   "execution_count": 19,
   "id": "296e5843",
   "metadata": {},
   "outputs": [
    {
     "data": {
      "application/vnd.jupyter.widget-view+json": {
       "model_id": "ae864fecc1884c31ac6cfd250845c57f",
       "version_major": 2,
       "version_minor": 0
      },
      "text/plain": [
       "VBox(children=(Checkbox(value=True, description='Save output to target directory'), Checkbox(value=True, descr…"
      ]
     },
     "metadata": {},
     "output_type": "display_data"
    }
   ],
   "source": [
    "try:\n",
    "    output_w()\n",
    "except:\n",
    "    output_w = CheckboxManager.from_idvdct(\n",
    "        {f\"Save output to target directory\": True,\n",
    "         f\"Show target directory listing\": True,\n",
    "         f\"Generate docx & zip from charts\": True,\n",
    "         f\"Clear files before each run\": False,\n",
    "        })\n",
    "    output_w()"
   ]
  },
  {
   "cell_type": "markdown",
   "id": "c16493ef",
   "metadata": {},
   "source": [
    "### The source data collection (filename) and columns (data series)\n",
    "Filename determines collection, eg `BTC-COINS`is a collection of coins with prices expressted in BTC, and `RAN-050-00` is sig=50% vol and mu=0% drift. If you change the top dropdown, use **Run All** to update the bottom one, choose the pair and whether you'd like to invert it."
   ]
  },
  {
   "cell_type": "code",
   "execution_count": 20,
   "id": "2cfdeb93",
   "metadata": {},
   "outputs": [
    {
     "data": {
      "application/vnd.jupyter.widget-view+json": {
       "model_id": "1d05522921b74d64ab5b676cc57ee1b4",
       "version_major": 2,
       "version_minor": 0
      },
      "text/plain": [
       "Dropdown(options=(('BTC-COINS', 'BTC-COINS'), ('COS', 'COS'), ('RAN-005-00', 'RAN-005-00'), ('RAN-010-00', 'RA…"
      ]
     },
     "metadata": {},
     "output_type": "display_data"
    }
   ],
   "source": [
    "DATAPATH = \"../data\"\n",
    "try:\n",
    "    datafn_w()\n",
    "except:\n",
    "    datafn_w = DropdownManager(listdir(DATAPATH, \".pickle\"), defaultval=\"BTC-COINS\")\n",
    "    datafn_w()"
   ]
  },
  {
   "cell_type": "code",
   "execution_count": 21,
   "id": "fde8c37e",
   "metadata": {},
   "outputs": [
    {
     "data": {
      "application/vnd.jupyter.widget-view+json": {
       "model_id": "2b36056ec9f948acbc3e867ee318c5ed",
       "version_major": 2,
       "version_minor": 0
      },
      "text/plain": [
       "Dropdown(options=(('ETH/BTC', 'ETH/BTC'), ('ADA/BTC', 'ADA/BTC'), ('ATOM/BTC', 'ATOM/BTC'), ('AVAX/BTC', 'AVAX…"
      ]
     },
     "metadata": {},
     "output_type": "display_data"
    }
   ],
   "source": [
    "cols = tuple(pdcols(j(DATAPATH, f\"{datafn_w.value}.pickle\")))\n",
    "try:\n",
    "    assert datafn_w.value == old_datafn_w_value\n",
    "    datacols_w()\n",
    "except:\n",
    "    old_datafn_w_value = datafn_w.value\n",
    "    datacols_w = DropdownManager(cols)\n",
    "    datacols_w()"
   ]
  },
  {
   "cell_type": "code",
   "execution_count": 22,
   "id": "26016294",
   "metadata": {},
   "outputs": [
    {
     "data": {
      "application/vnd.jupyter.widget-view+json": {
       "model_id": "ae68c5b0b9dc473da5cb5598c289d731",
       "version_major": 2,
       "version_minor": 0
      },
      "text/plain": [
       "VBox(children=(Checkbox(value=True, description='invert'),))"
      ]
     },
     "metadata": {},
     "output_type": "display_data"
    }
   ],
   "source": [
    "try:\n",
    "    invert_w()\n",
    "except:\n",
    "    invert_w = CheckboxManager([\"invert\"])\n",
    "    invert_w()"
   ]
  },
  {
   "cell_type": "markdown",
   "id": "58e369a4",
   "metadata": {},
   "source": [
    "### Strategy selection"
   ]
  },
  {
   "cell_type": "code",
   "execution_count": 23,
   "id": "0e1bb337",
   "metadata": {},
   "outputs": [
    {
     "data": {
      "application/vnd.jupyter.widget-view+json": {
       "model_id": "febe13c2efd74135b8cb1373bb646582",
       "version_major": 2,
       "version_minor": 0
      },
      "text/plain": [
       "VBox(children=(Checkbox(value=True, description='slider'), Checkbox(value=False, description='single'), Checkb…"
      ]
     },
     "metadata": {},
     "output_type": "display_data"
    }
   ],
   "source": [
    "try:\n",
    "    strats_w()\n",
    "except:\n",
    "    strats = {\n",
    "         \"slider\":     None, # driven by sliders below\n",
    "         \"single\":     strategy.from_mgw(m=100, g=0.01, w=0.02, amt_rsk=1, amt_csh=0),\n",
    "         \"multiple\":   [strategy.from_mgw(m=100, g=0.25, w=0.05, amt_rsk=1, amt_csh=0),\n",
    "                       strategy.from_mgw(m=100, g=0.10, w=0.03, amt_rsk=1, amt_csh=0)],  \n",
    "         \"univ3\":      strategy.from_u3(p_lo=100, p_hi=150, start_below=True, fee_pc=0.05, tvl_csh=1000),\n",
    "    }\n",
    "    strats_w = CheckboxManager(strats.keys(), values=[1,0,0,0])\n",
    "    strats_w()"
   ]
  },
  {
   "cell_type": "markdown",
   "id": "b818f867",
   "metadata": {},
   "source": [
    "### Elements to show on the chart"
   ]
  },
  {
   "cell_type": "code",
   "execution_count": 24,
   "id": "3aa94ea0",
   "metadata": {},
   "outputs": [
    {
     "data": {
      "application/vnd.jupyter.widget-view+json": {
       "model_id": "0b1fc16164a848c6a216ed759a37a9f7",
       "version_major": 2,
       "version_minor": 0
      },
      "text/plain": [
       "VBox(children=(Checkbox(value=True, description='plotPrice'), Checkbox(value=True, description='plotValueCsh')…"
      ]
     },
     "metadata": {},
     "output_type": "display_data"
    }
   ],
   "source": [
    "try: \n",
    "    params_w()\n",
    "except:\n",
    "    params_w = CheckboxManager.from_idvdct(sim_params)\n",
    "    params_w()"
   ]
  },
  {
   "cell_type": "markdown",
   "id": "d54ea17d",
   "metadata": {},
   "source": [
    "### Time period\n",
    "\n",
    "this is the time period that is plotted; periods and start dates are quoted as percentage total time; the window is cut at the left, eg start=0.9 and length=0.5 shows 0.9...1.0. Before the sliders are applied, everything before `PATH_MIN_DATE` is discarded. "
   ]
  },
  {
   "cell_type": "code",
   "execution_count": 25,
   "id": "7f43c543",
   "metadata": {},
   "outputs": [
    {
     "data": {
      "application/vnd.jupyter.widget-view+json": {
       "model_id": "1d86be014ca849828b0c38a338dd98aa",
       "version_major": 2,
       "version_minor": 0
      },
      "text/plain": [
       "VBox(children=(FloatSlider(value=0.0, continuous_update=False, description='Start date %', readout_format='.1f…"
      ]
     },
     "metadata": {},
     "output_type": "display_data"
    }
   ],
   "source": [
    "PATH_MIN_DATE = \"2022-01-01\"\n",
    "try:\n",
    "    segment_w(vertical=True)\n",
    "except:\n",
    "    segment_w = PcSliderManager([\"Start date %\", \"Length %\"], values=[0,1])\n",
    "    segment_w(vertical=True)"
   ]
  },
  {
   "cell_type": "markdown",
   "id": "c1507f45",
   "metadata": {},
   "source": [
    "### The `slider` strategy\n",
    "\n",
    "This is the strategy called `slider`. Here `m` is the mid price of the range (adjust `S0`, `SMIN`, `SMAX` to change), `g%` is the gap between the ranges in percent, and `w%` is the width of the ranges in percent. The parameter `u%` is the range utilisation rate, where `u=0%` means the range is full, and `u~100%` means that it is almost empty. The parameter `csh` is the initial cash percenate of the portfolio, and it total cash value is `TVL`."
   ]
  },
  {
   "cell_type": "code",
   "execution_count": 26,
   "id": "39ffa5ee",
   "metadata": {},
   "outputs": [
    {
     "data": {
      "application/vnd.jupyter.widget-view+json": {
       "model_id": "f1b32c6985584c2fa0156f5a3e124b95",
       "version_major": 2,
       "version_minor": 0
      },
      "text/plain": [
       "VBox(children=(FloatSlider(value=100.0, continuous_update=False, description='m', max=200.0, min=50.0, readout…"
      ]
     },
     "metadata": {},
     "output_type": "display_data"
    }
   ],
   "source": [
    "try:\n",
    "    strat1_w(vertical=True)\n",
    "except:\n",
    "    S0, SMIN, SMAX, TVL = 100, 50, 200, 1000\n",
    "    strat1_w = PcSliderManager([\"m\", \"g%\", \"w%\", \"u%\", \"csh\"], \n",
    "                        values=[S0/100, 0.1, 0.25, 0, 0.5], \n",
    "                        range=[(SMIN/100,SMAX/100),(0,0.50),(0,0.50),(0,1),(0,1)])\n",
    "    strat1_w(vertical=True)"
   ]
  },
  {
   "cell_type": "markdown",
   "id": "7087ae13",
   "metadata": {},
   "source": [
    "## Simulation"
   ]
  },
  {
   "cell_type": "code",
   "execution_count": 27,
   "id": "90032833",
   "metadata": {},
   "outputs": [],
   "source": [
    "if output_w.values[3]:\n",
    "    !rm {OUTPATH}/*.png\n",
    "    !rm {OUTPATH}/_CHARTS.*"
   ]
  },
  {
   "cell_type": "code",
   "execution_count": 28,
   "id": "1342127f",
   "metadata": {
    "scrolled": false
   },
   "outputs": [
    {
     "data": {
      "image/png": "[encoded data removed]",
      "text/plain": [
       "<Figure size 864x432 with 2 Axes>"
      ]
     },
     "metadata": {},
     "output_type": "display_data"
    }
   ],
   "source": [
    "DATAID, DATAFN = datafn_w.value, j(DATAPATH, f\"{datafn_w.value}.pickle\") \n",
    "OUTPATH = outpath_w.value if output_w.values[0] else None\n",
    "STARTPC, LENPC, SV, COLNM = segment_w.values[0], segment_w.values[1], strat1_w.values, datacols_w.value\n",
    "path, pair = pdread(DATAFN, COLNM, from_pc=STARTPC, period_pc=LENPC, min_dt=PATH_MIN_DATE, invert=invert_w.values[0], tkns=True)\n",
    "strats[\"slider\"] = strategy.from_mgw(m=100*SV[0], g=SV[1], w=SV[2], u=SV[3], amt_rsk=TVL/path[0]*(1-SV[4]), amt_csh=TVL*SV[4])\n",
    "for ix, stratid in enumerate(strats_w.checked):\n",
    "    strat = strats[stratid]\n",
    "    simresults = run_sim(strat, path)\n",
    "    plot_sim(simresults, f\"{DATAID}:{COLNM}\", Params(**params_w.values_dct), pair=pair)\n",
    "    if isinstance(OUTPATH, str):\n",
    "        plt.savefig(j(OUTPATH, fname(DATAID, COLNM)))\n",
    "    plt.show()"
   ]
  },
  {
   "cell_type": "markdown",
   "id": "9af1ab4e",
   "metadata": {},
   "source": [
    "Provide the corresponding box above (_\"Show target directory listing\"_) is checked, this will create a list of all `png` files generated throughout your analysis. Those files will only be generated is the box _\"Save output to target directory\"_ box is checked. The target directory is preset to the directory of this notebook, but you can change this in the code above. Keep in minds that if you run this analysis **on Binder, you have to download all files you want to keep before the server is destroyed.**"
   ]
  },
  {
   "cell_type": "code",
   "execution_count": 29,
   "id": "51648e70",
   "metadata": {},
   "outputs": [
    {
     "name": "stdout",
     "output_type": "stream",
     "text": [
      "Listing OUTPATH [uncheck box at top to disable]\n",
      "0128-002032-BTC-COINS-ETHBTC\n",
      "0128-001820-BTC-COINS-ETHBTC\n",
      "0127-233532-BTC-COINS-XRPBTC\n",
      "0128-001117-BTC-COINS-ETHBTC\n",
      "0127-222943-BTC-COINS-ETHBTC\n",
      "0127-235254-BTC-COINS-LTCBTC\n",
      "0128-002332-BTC-COINS-ETHBTC\n",
      "0127-215839-BTC-COINS-ETHBTC\n",
      "0128-002321-BTC-COINS-ETHBTC\n",
      "0127-220213-BTC-COINS-ETHBTC\n",
      "0127-234941-BTC-COINS-LTCBTC\n",
      "0128-000910-BTC-COINS-ETHBTC\n",
      "0128-002517-BTC-COINS-ETHBTC\n",
      "0128-002013-BTC-COINS-ETHBTC\n",
      "0127-235304-BTC-COINS-LTCBTC\n",
      "0127-222944-BTC-COINS-ETHBTC\n",
      "0127-234948-BTC-COINS-LTCBTC\n",
      "0127-233447-BTC-COINS-XRPBTC\n",
      "0127-234907-BTC-COINS-ETHBTC\n",
      "0127-222959-BTC-COINS-ETHBTC\n",
      "0127-235319-BTC-COINS-LTCBTC\n",
      "0127-215849-BTC-COINS-ETHBTC\n",
      "0128-001129-BTC-COINS-ETHBTC\n",
      "0127-235338-BTC-COINS-LTCBTC\n",
      "0127-235353-BTC-COINS-LTCBTC\n",
      "0128-002507-BTC-COINS-ETHBTC\n",
      "0128-002047-BTC-COINS-ETHBTC\n",
      "0127-223006-BTC-COINS-ETHBTC\n"
     ]
    }
   ],
   "source": [
    "if OUTPATH and output_w.values[1]:\n",
    "    print(\"Listing OUTPATH [uncheck box at top to disable]\")\n",
    "    print (\"\\n\".join([fn[:-4] for fn in os.listdir(OUTPATH) if fn[-4:]==\".png\"]))"
   ]
  },
  {
   "cell_type": "markdown",
   "id": "e25096de",
   "metadata": {},
   "source": [
    "Provide the corresponding box above (_\"Generate docx & zip from charts\"_) is checked, this will create a Word `docx` file embedding all the `png` files"
   ]
  },
  {
   "cell_type": "code",
   "execution_count": 30,
   "id": "ca986fa4",
   "metadata": {},
   "outputs": [
    {
     "name": "stdout",
     "output_type": "stream",
     "text": [
      "Creating consolidated docx and zip from charts [uncheck box at top to disable]\n"
     ]
    }
   ],
   "source": [
    "if OUTPATH and output_w.values[2]:\n",
    "    print(\"Creating consolidated docx and zip from charts [uncheck box at top to disable]\")\n",
    "    markdown = \"\\n\\n\".join(f\"![]({OUTPATH}/{fn})\" for fn in [fn for fn in os.listdir(OUTPATH) if fn[-4:]==\".png\"])\n",
    "    fsave(markdown, \"_CHARTS.md\", OUTPATH, quiet=True)\n",
    "    !pandoc {OUTPATH}/_CHARTS.md -o {OUTPATH}/_CHARTS.docx\n",
    "    !zip _CHARTS.zip -qq *.png "
   ]
  }
 ],
 "metadata": {
  "jupytext": {
   "formats": "ipynb,py:light"
  },
  "kernelspec": {
   "display_name": "Python 3",
   "language": "python",
   "name": "python3"
  },
  "language_info": {
   "codemirror_mode": {
    "name": "ipython",
    "version": 3
   },
   "file_extension": ".py",
   "mimetype": "text/x-python",
   "name": "python",
   "nbconvert_exporter": "python",
   "pygments_lexer": "ipython3",
   "version": "3.8.8"
  }
 },
 "nbformat": 4,
 "nbformat_minor": 5
}
