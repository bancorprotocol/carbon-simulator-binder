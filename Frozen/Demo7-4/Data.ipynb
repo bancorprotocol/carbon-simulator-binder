{
 "cells": [
  {
   "cell_type": "code",
   "execution_count": 12,
   "id": "855f1438",
   "metadata": {
    "jupyter": {
     "source_hidden": true
    },
    "tags": []
   },
   "outputs": [],
   "source": [
    "import os\n",
    "if not os.path.isfile(\"NOPIP\"):\n",
    "    print(\"Running pip installs. Create a file called 'NOPIP' to disable.\")\n",
    "    %pip install carbon-simulator\n",
    "    %pip install ipywidgets\n",
    "    %pip install requests"
   ]
  },
  {
   "cell_type": "code",
   "execution_count": 13,
   "id": "98ca9548",
   "metadata": {
    "jupyter": {
     "source_hidden": true
    },
    "tags": []
   },
   "outputs": [
    {
     "name": "stdout",
     "output_type": "stream",
     "text": [
      "CryptoCompare v1.4 (01/Feb/2023)\n"
     ]
    }
   ],
   "source": [
    "from carbon.helpers.cryptocompare import CryptoCompare\n",
    "from carbon.helpers.widgets import CheckboxManager, DropdownManager, PcSliderManager\n",
    "import pandas as pd\n",
    "\n",
    "print( \"{0.__name__} v{0.__VERSION__} ({0.__DATE__})\".format(CryptoCompare))"
   ]
  },
  {
   "cell_type": "markdown",
   "id": "50abfa57",
   "metadata": {},
   "source": [
    "# Data Download\n",
    "\n",
    "**IMPORTANT -- THIS SHEET MAY NOT WORK IN THE JUPYTER LITE BROWSER ENVIRONMENT SO FOR IT TO RUN YOU MAY UNFORTUNATELY HAVE TO RUN IT ON A LOCAL INSTALL AND UPLOAD THE FILES.** If prefer to not install Carbon, you can directly download [cryptocompare.py][ccpy] and [widgets.py][wpy] from [carbon.helpers][ch].\n",
    "\n",
    "[ccpy]:https://github.com/bancorprotocol/carbon-simulator/blob/main/carbon/helpers/cryptocompare.py\n",
    "[wpy]:https://github.com/bancorprotocol/carbon-simulator/blob/main/carbon/helpers/widgets.py\n",
    "[ch]:https://github.com/bancorprotocol/carbon-simulator/tree/main/carbon/helpers"
   ]
  },
  {
   "cell_type": "markdown",
   "id": "805dd0dc",
   "metadata": {},
   "source": [
    "## Setup"
   ]
  },
  {
   "cell_type": "markdown",
   "id": "27ed00e2",
   "metadata": {},
   "source": [
    "Please provide the following information in the variables below\n",
    "- `NAME`: the name of the data collection\n",
    "- `PAIRS`: the pairs that data collection will contain\n",
    "- `FREQ`: the data frequency (FREQ_DAILY, FREQ_HOURLY, FREQ_MINUTELY)\n",
    "- `APIKEY`: if you have a CryptoCompare API Key you can put it there; otherwise set to `True`\n",
    "\n",
    "**(click on the three dots if the cell below does not show)**"
   ]
  },
  {
   "cell_type": "code",
   "execution_count": 14,
   "id": "c802b919",
   "metadata": {
    "tags": []
   },
   "outputs": [],
   "source": [
    "NAME      = \"TESTCOLLECTION\"\n",
    "PAIRS     = \"DOGE/USD, AVAX/USD\"\n",
    "FREQ      = CryptoCompare.FREQ_DAILY\n",
    "APIKEY    = True"
   ]
  },
  {
   "cell_type": "markdown",
   "id": "907ba2ec",
   "metadata": {},
   "source": [
    "Please check that the above information is correct and check the `Correct` box. There will be no further confirmation, and any existing data will be overwritten."
   ]
  },
  {
   "cell_type": "code",
   "execution_count": 15,
   "id": "5c629635",
   "metadata": {
    "jupyter": {
     "source_hidden": true
    },
    "tags": []
   },
   "outputs": [
    {
     "name": "stdout",
     "output_type": "stream",
     "text": [
      "NAME: MYCOLLECTION\n",
      "PAIRS: DOGE/USD, AVAX/USD\n",
      "FREQ: day\n",
      "DATAPATH: ../data\n",
      "FNAME: ../data/MYCOLLECTION-DAY.pickle\n",
      "\n"
     ]
    },
    {
     "data": {
      "application/vnd.jupyter.widget-view+json": {
       "model_id": "a63949ddb6154b36aa990a56d23e2096",
       "version_major": 2,
       "version_minor": 0
      },
      "text/plain": [
       "VBox(children=(Checkbox(value=True, description='Correct'),))"
      ]
     },
     "metadata": {},
     "output_type": "display_data"
    }
   ],
   "source": [
    "DATAPATH = \"../data\"\n",
    "FNAME = os.path.join(DATAPATH, f\"{NAME}-{FREQ.upper()}.pickle\")\n",
    "print(\"NAME:\", NAME)\n",
    "print(\"PAIRS:\", PAIRS)\n",
    "print(\"FREQ:\", FREQ)\n",
    "print(\"DATAPATH:\", DATAPATH)\n",
    "print(\"FNAME:\", FNAME)\n",
    "print()\n",
    "try:\n",
    "    confirmation_w()\n",
    "except:\n",
    "    confirmation_w = CheckboxManager.from_idvdct(\n",
    "        {f\"Correct\": False,})\n",
    "    confirmation_w()\n",
    "if not confirmation_w.values[0]:\n",
    "    raise RuntimeError(\"Please verify the inputs and confirm that they are correct by checking the above box! Then Run All.\")"
   ]
  },
  {
   "cell_type": "markdown",
   "id": "de693cac",
   "metadata": {
    "tags": []
   },
   "source": [
    "## API call and save"
   ]
  },
  {
   "cell_type": "code",
   "execution_count": 16,
   "id": "fc64414a",
   "metadata": {
    "jupyter": {
     "source_hidden": true
    },
    "tags": []
   },
   "outputs": [
    {
     "name": "stdout",
     "output_type": "stream",
     "text": [
      "[aggr_query] fields ('close',)\n",
      "[aggr_query] pairs (pair(tknb='DOGE', tknq='USD'), pair(tknb='AVAX', tknq='USD'))\n",
      "[aggr_query] Querying for raw table 2\n",
      "[query] https://min-api.cryptocompare.com/data/v2/histoday {'fsym': 'DOGE', 'tsym': 'USD', 'limit': 2000} [0000]\n",
      "[query] https://min-api.cryptocompare.com/data/v2/histoday {'fsym': 'AVAX', 'tsym': 'USD', 'limit': 2000} [0000]\n",
      "[aggr_query] Creating aggregate table\n",
      "================================================================================\n",
      "Wrote data to ../data/MYCOLLECTION-DAY.pickle\n",
      "================================================================================\n"
     ]
    },
    {
     "data": {
      "text/html": [
       "<div>\n",
       "<style scoped>\n",
       "    .dataframe tbody tr th:only-of-type {\n",
       "        vertical-align: middle;\n",
       "    }\n",
       "\n",
       "    .dataframe tbody tr th {\n",
       "        vertical-align: top;\n",
       "    }\n",
       "\n",
       "    .dataframe thead th {\n",
       "        text-align: right;\n",
       "    }\n",
       "</style>\n",
       "<table border=\"1\" class=\"dataframe\">\n",
       "  <thead>\n",
       "    <tr style=\"text-align: right;\">\n",
       "      <th></th>\n",
       "      <th>AVAX/USD</th>\n",
       "      <th>DOGE/USD</th>\n",
       "    </tr>\n",
       "    <tr>\n",
       "      <th>datetime</th>\n",
       "      <th></th>\n",
       "      <th></th>\n",
       "    </tr>\n",
       "  </thead>\n",
       "  <tbody>\n",
       "    <tr>\n",
       "      <th>2017-08-11</th>\n",
       "      <td>0.0</td>\n",
       "      <td>0.001871</td>\n",
       "    </tr>\n",
       "    <tr>\n",
       "      <th>2017-08-12</th>\n",
       "      <td>0.0</td>\n",
       "      <td>0.001854</td>\n",
       "    </tr>\n",
       "    <tr>\n",
       "      <th>2017-08-13</th>\n",
       "      <td>0.0</td>\n",
       "      <td>0.001779</td>\n",
       "    </tr>\n",
       "    <tr>\n",
       "      <th>2017-08-14</th>\n",
       "      <td>0.0</td>\n",
       "      <td>0.001754</td>\n",
       "    </tr>\n",
       "    <tr>\n",
       "      <th>2017-08-15</th>\n",
       "      <td>0.0</td>\n",
       "      <td>0.001699</td>\n",
       "    </tr>\n",
       "  </tbody>\n",
       "</table>\n",
       "</div>"
      ],
      "text/plain": [
       "            AVAX/USD  DOGE/USD\n",
       "datetime                      \n",
       "2017-08-11       0.0  0.001871\n",
       "2017-08-12       0.0  0.001854\n",
       "2017-08-13       0.0  0.001779\n",
       "2017-08-14       0.0  0.001754\n",
       "2017-08-15       0.0  0.001699"
      ]
     },
     "execution_count": 16,
     "metadata": {},
     "output_type": "execute_result"
    }
   ],
   "source": [
    "CC=CryptoCompare(apikey=APIKEY)\n",
    "data_df = CC.aggr_query(\n",
    "    pairs=PAIRS, \n",
    "    fields=CC.FIELD_CLOSE, \n",
    "    freq=FREQ,\n",
    "    incl_raw=False,\n",
    "    incl_raw_aggr=False,\n",
    "    incl_grand_aggr=False,\n",
    ")[\"aggr\"][CC.FIELD_CLOSE]\n",
    "data_df.to_pickle(FNAME)\n",
    "print(\"=\"*80)\n",
    "print(f\"Wrote data to {FNAME}\")\n",
    "print(\"=\"*80)\n",
    "data_df.head()"
   ]
  },
  {
   "cell_type": "markdown",
   "id": "ddd8e870",
   "metadata": {},
   "source": [
    "## Check load works"
   ]
  },
  {
   "cell_type": "code",
   "execution_count": 17,
   "id": "0afb460e",
   "metadata": {
    "jupyter": {
     "source_hidden": true
    },
    "tags": []
   },
   "outputs": [
    {
     "data": {
      "text/html": [
       "<div>\n",
       "<style scoped>\n",
       "    .dataframe tbody tr th:only-of-type {\n",
       "        vertical-align: middle;\n",
       "    }\n",
       "\n",
       "    .dataframe tbody tr th {\n",
       "        vertical-align: top;\n",
       "    }\n",
       "\n",
       "    .dataframe thead th {\n",
       "        text-align: right;\n",
       "    }\n",
       "</style>\n",
       "<table border=\"1\" class=\"dataframe\">\n",
       "  <thead>\n",
       "    <tr style=\"text-align: right;\">\n",
       "      <th></th>\n",
       "      <th>AVAX/USD</th>\n",
       "      <th>DOGE/USD</th>\n",
       "    </tr>\n",
       "    <tr>\n",
       "      <th>datetime</th>\n",
       "      <th></th>\n",
       "      <th></th>\n",
       "    </tr>\n",
       "  </thead>\n",
       "  <tbody>\n",
       "    <tr>\n",
       "      <th>2017-08-11</th>\n",
       "      <td>0.00</td>\n",
       "      <td>0.001871</td>\n",
       "    </tr>\n",
       "    <tr>\n",
       "      <th>2017-08-12</th>\n",
       "      <td>0.00</td>\n",
       "      <td>0.001854</td>\n",
       "    </tr>\n",
       "    <tr>\n",
       "      <th>2017-08-13</th>\n",
       "      <td>0.00</td>\n",
       "      <td>0.001779</td>\n",
       "    </tr>\n",
       "    <tr>\n",
       "      <th>2017-08-14</th>\n",
       "      <td>0.00</td>\n",
       "      <td>0.001754</td>\n",
       "    </tr>\n",
       "    <tr>\n",
       "      <th>2017-08-15</th>\n",
       "      <td>0.00</td>\n",
       "      <td>0.001699</td>\n",
       "    </tr>\n",
       "    <tr>\n",
       "      <th>...</th>\n",
       "      <td>...</td>\n",
       "      <td>...</td>\n",
       "    </tr>\n",
       "    <tr>\n",
       "      <th>2023-01-28</th>\n",
       "      <td>20.54</td>\n",
       "      <td>0.087770</td>\n",
       "    </tr>\n",
       "    <tr>\n",
       "      <th>2023-01-29</th>\n",
       "      <td>21.01</td>\n",
       "      <td>0.090120</td>\n",
       "    </tr>\n",
       "    <tr>\n",
       "      <th>2023-01-30</th>\n",
       "      <td>19.74</td>\n",
       "      <td>0.088370</td>\n",
       "    </tr>\n",
       "    <tr>\n",
       "      <th>2023-01-31</th>\n",
       "      <td>19.81</td>\n",
       "      <td>0.096140</td>\n",
       "    </tr>\n",
       "    <tr>\n",
       "      <th>2023-02-01</th>\n",
       "      <td>20.21</td>\n",
       "      <td>0.092650</td>\n",
       "    </tr>\n",
       "  </tbody>\n",
       "</table>\n",
       "<p>2001 rows × 2 columns</p>\n",
       "</div>"
      ],
      "text/plain": [
       "            AVAX/USD  DOGE/USD\n",
       "datetime                      \n",
       "2017-08-11      0.00  0.001871\n",
       "2017-08-12      0.00  0.001854\n",
       "2017-08-13      0.00  0.001779\n",
       "2017-08-14      0.00  0.001754\n",
       "2017-08-15      0.00  0.001699\n",
       "...              ...       ...\n",
       "2023-01-28     20.54  0.087770\n",
       "2023-01-29     21.01  0.090120\n",
       "2023-01-30     19.74  0.088370\n",
       "2023-01-31     19.81  0.096140\n",
       "2023-02-01     20.21  0.092650\n",
       "\n",
       "[2001 rows x 2 columns]"
      ]
     },
     "execution_count": 17,
     "metadata": {},
     "output_type": "execute_result"
    }
   ],
   "source": [
    "pd.read_pickle(FNAME)"
   ]
  },
  {
   "cell_type": "code",
   "execution_count": null,
   "id": "41622735",
   "metadata": {
    "jupyter": {
     "source_hidden": true
    },
    "tags": []
   },
   "outputs": [],
   "source": []
  }
 ],
 "metadata": {
  "jupytext": {
   "formats": "ipynb,py:light"
  },
  "kernelspec": {
   "display_name": "Python 3",
   "language": "python",
   "name": "python3"
  },
  "language_info": {
   "codemirror_mode": {
    "name": "ipython",
    "version": 3
   },
   "file_extension": ".py",
   "mimetype": "text/x-python",
   "name": "python",
   "nbconvert_exporter": "python",
   "pygments_lexer": "ipython3",
   "version": "3.8.8"
  }
 },
 "nbformat": 4,
 "nbformat_minor": 5
}
